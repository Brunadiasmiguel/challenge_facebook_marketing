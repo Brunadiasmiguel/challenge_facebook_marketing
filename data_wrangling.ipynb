{
 "cells": [
  {
   "cell_type": "code",
   "execution_count": 5,
   "metadata": {},
   "outputs": [],
   "source": [
    "# import libraries\n",
    "\n",
    "import pandas as pd\n",
    "import numpy as np\n",
    "#import postgresql\n",
    "import getpass\n",
    "#import example_psql as creds\n",
    "import psycopg2\n",
    "#import pandas.io.sql as psql\n",
    "import matplotlib\n",
    "import matplotlib.pyplot as plt\n",
    "%matplotlib inline"
   ]
  },
  {
   "cell_type": "code",
   "execution_count": 7,
   "metadata": {},
   "outputs": [
    {
     "name": "stdout",
     "output_type": "stream",
     "text": [
      "········\n"
     ]
    }
   ],
   "source": [
    "#could use a module for this \n",
    "conn = psycopg2.connect(host=\"d-an-test.cygqmbt4gi1l.eu-central-1.rds.amazonaws.com\",\n",
    "                        user=\"bruna_miguel\",\n",
    "                       password=getpass.getpass(),\n",
    "                       database=\"postgres\")"
   ]
  },
  {
   "cell_type": "code",
   "execution_count": 8,
   "metadata": {},
   "outputs": [],
   "source": [
    "query = \"\"\"\n",
    "SELECT *\n",
    "From fbt_conversions;\n",
    "\"\"\"\n",
    "\n",
    "table1 = pd.read_sql(query, conn)"
   ]
  },
  {
   "cell_type": "code",
   "execution_count": 9,
   "metadata": {},
   "outputs": [
    {
     "data": {
      "text/html": [
       "<div>\n",
       "<style scoped>\n",
       "    .dataframe tbody tr th:only-of-type {\n",
       "        vertical-align: middle;\n",
       "    }\n",
       "\n",
       "    .dataframe tbody tr th {\n",
       "        vertical-align: top;\n",
       "    }\n",
       "\n",
       "    .dataframe thead th {\n",
       "        text-align: right;\n",
       "    }\n",
       "</style>\n",
       "<table border=\"1\" class=\"dataframe\">\n",
       "  <thead>\n",
       "    <tr style=\"text-align: right;\">\n",
       "      <th></th>\n",
       "      <th>sk_user</th>\n",
       "      <th>purchased_at</th>\n",
       "      <th>revenue</th>\n",
       "      <th>subscription_id</th>\n",
       "    </tr>\n",
       "  </thead>\n",
       "  <tbody>\n",
       "    <tr>\n",
       "      <th>0</th>\n",
       "      <td>5734568301</td>\n",
       "      <td>2020-05-16 17:42:06</td>\n",
       "      <td>14.36</td>\n",
       "      <td>964462</td>\n",
       "    </tr>\n",
       "    <tr>\n",
       "      <th>1</th>\n",
       "      <td>5734568301</td>\n",
       "      <td>2020-05-16 17:42:06</td>\n",
       "      <td>14.36</td>\n",
       "      <td>964462</td>\n",
       "    </tr>\n",
       "    <tr>\n",
       "      <th>2</th>\n",
       "      <td>5734112101</td>\n",
       "      <td>2020-05-11 21:49:40</td>\n",
       "      <td>18.39</td>\n",
       "      <td>962593</td>\n",
       "    </tr>\n",
       "    <tr>\n",
       "      <th>3</th>\n",
       "      <td>5734112101</td>\n",
       "      <td>2020-05-11 21:49:40</td>\n",
       "      <td>18.39</td>\n",
       "      <td>962593</td>\n",
       "    </tr>\n",
       "    <tr>\n",
       "      <th>4</th>\n",
       "      <td>88254113</td>\n",
       "      <td>2020-11-30 11:48:19</td>\n",
       "      <td>25.60</td>\n",
       "      <td>1060301</td>\n",
       "    </tr>\n",
       "  </tbody>\n",
       "</table>\n",
       "</div>"
      ],
      "text/plain": [
       "      sk_user        purchased_at  revenue subscription_id\n",
       "0  5734568301 2020-05-16 17:42:06    14.36          964462\n",
       "1  5734568301 2020-05-16 17:42:06    14.36          964462\n",
       "2  5734112101 2020-05-11 21:49:40    18.39          962593\n",
       "3  5734112101 2020-05-11 21:49:40    18.39          962593\n",
       "4    88254113 2020-11-30 11:48:19    25.60         1060301"
      ]
     },
     "execution_count": 9,
     "metadata": {},
     "output_type": "execute_result"
    }
   ],
   "source": [
    "table1.head()"
   ]
  },
  {
   "cell_type": "code",
   "execution_count": null,
   "metadata": {},
   "outputs": [],
   "source": []
  }
 ],
 "metadata": {
  "kernelspec": {
   "display_name": "Python 3",
   "language": "python",
   "name": "python3"
  },
  "language_info": {
   "codemirror_mode": {
    "name": "ipython",
    "version": 3
   },
   "file_extension": ".py",
   "mimetype": "text/x-python",
   "name": "python",
   "nbconvert_exporter": "python",
   "pygments_lexer": "ipython3",
   "version": "3.8.5"
  }
 },
 "nbformat": 4,
 "nbformat_minor": 4
}
